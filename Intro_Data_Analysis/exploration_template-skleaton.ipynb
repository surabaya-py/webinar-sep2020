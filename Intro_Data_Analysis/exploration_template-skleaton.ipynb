{
 "cells": [
  {
   "cell_type": "markdown",
   "metadata": {},
   "source": [
    "# Intro to Data Analysis with Python\n",
    "\n",
    "> **in this project will gather, assess, visualize, and analyze data from [FordGoBike System Data] (https://www.fordgobike.com/system-data) in 2019.**"
   ]
  },
  {
   "cell_type": "code",
   "execution_count": 1,
   "metadata": {},
   "outputs": [],
   "source": [
    "# import libary yang dibutuhkan\n",
    "\n",
    "# import numpy as np\n",
    "# import pandas as pd\n",
    "# import matplotlib.pyplot as plt\n",
    "# import seaborn as sb\n",
    "# from zipfile import ZipFile\n",
    "# import glob\n",
    "# import os\n",
    "\n",
    "# %matplotlib inline"
   ]
  },
  {
   "cell_type": "markdown",
   "metadata": {},
   "source": [
    "# Gathering Data\n",
    "(https://www.fordgobike.com/system-data)"
   ]
  },
  {
   "cell_type": "code",
   "execution_count": 2,
   "metadata": {},
   "outputs": [
    {
     "data": {
      "text/plain": [
       "['./fordgobikedata\\\\201901-fordgobike-tripdata.csv.zip',\n",
       " './fordgobikedata\\\\201902-fordgobike-tripdata.csv.zip',\n",
       " './fordgobikedata\\\\201903-fordgobike-tripdata.csv.zip',\n",
       " './fordgobikedata\\\\201904-fordgobike-tripdata.csv.zip',\n",
       " './fordgobikedata\\\\201905-baywheels-tripdata.csv.zip',\n",
       " './fordgobikedata\\\\201906-baywheels-tripdata.csv.zip',\n",
       " './fordgobikedata\\\\201907-baywheels-tripdata.csv.zip',\n",
       " './fordgobikedata\\\\201908-baywheels-tripdata.csv.zip',\n",
       " './fordgobikedata\\\\201909-baywheels-tripdata.csv.zip',\n",
       " './fordgobikedata\\\\201910-baywheels-tripdata.csv.zip',\n",
       " './fordgobikedata\\\\201911-baywheels-tripdata.csv.zip',\n",
       " './fordgobikedata\\\\201912-baywheels-tripdata.csv.zip']"
      ]
     },
     "execution_count": 2,
     "metadata": {},
     "output_type": "execute_result"
    }
   ],
   "source": [
    "# ambil seluruh file pada direktori fordgobikedata\n",
    "# menggunakan libary glob dan masukkan ke variable all_zip\n",
    "\n",
    "# path = './fordgobikedata'\n",
    "# all_zip = glob.glob(path + \"/*.zip\")\n",
    "# all_zip"
   ]
  },
  {
   "cell_type": "code",
   "execution_count": 3,
   "metadata": {},
   "outputs": [
    {
     "name": "stdout",
     "output_type": "stream",
     "text": [
      "File Name                                             Modified             Size\n",
      "201901-fordgobike-tripdata.csv                 2020-01-09 16:01:40     35610597\n",
      "__MACOSX/                                      2020-01-10 10:26:56            0\n",
      "__MACOSX/._201901-fordgobike-tripdata.csv      2020-01-09 16:01:40          268\n",
      "Extracting all the files now...\n",
      "Done!\n",
      "File Name                                             Modified             Size\n",
      "201902-fordgobike-tripdata.csv                 2020-01-09 16:00:38     33995020\n",
      "__MACOSX/                                      2020-01-10 10:27:00            0\n",
      "__MACOSX/._201902-fordgobike-tripdata.csv      2020-01-09 16:00:38          268\n",
      "Extracting all the files now...\n",
      "Done!\n",
      "File Name                                             Modified             Size\n",
      "201903-fordgobike-tripdata.csv                 2020-01-09 16:00:14     47545283\n",
      "__MACOSX/                                      2020-01-10 10:27:06            0\n",
      "__MACOSX/._201903-fordgobike-tripdata.csv      2020-01-09 16:00:14          268\n",
      "Extracting all the files now...\n",
      "Done!\n",
      "File Name                                             Modified             Size\n",
      "201904-fordgobike-tripdata.csv                 2020-01-09 15:59:36     44382625\n",
      "__MACOSX/                                      2020-01-10 10:27:12            0\n",
      "__MACOSX/._201904-fordgobike-tripdata.csv      2020-01-09 15:59:36          268\n",
      "Extracting all the files now...\n",
      "Done!\n",
      "File Name                                             Modified             Size\n",
      "201905-baywheels-tripdata.csv                  2020-01-09 15:59:06     33860283\n",
      "__MACOSX/                                      2020-01-10 10:27:22            0\n",
      "__MACOSX/._201905-baywheels-tripdata.csv       2020-01-09 15:59:06          268\n",
      "Extracting all the files now...\n",
      "Done!\n",
      "File Name                                             Modified             Size\n",
      "201906-baywheels-tripdata.csv                  2020-01-09 15:58:44     35610277\n",
      "__MACOSX/                                      2020-01-10 10:27:28            0\n",
      "__MACOSX/._201906-baywheels-tripdata.csv       2020-01-09 15:58:44          268\n",
      "Extracting all the files now...\n",
      "Done!\n",
      "File Name                                             Modified             Size\n",
      "201907-baywheels-tripdata.csv                  2020-01-09 15:58:18     44540874\n",
      "__MACOSX/                                      2020-01-10 10:27:36            0\n",
      "__MACOSX/._201907-baywheels-tripdata.csv       2020-01-09 15:58:18          268\n",
      "Extracting all the files now...\n",
      "Done!\n",
      "File Name                                             Modified             Size\n",
      "201908-baywheels-tripdata.csv                  2020-01-09 15:57:30     39120422\n",
      "__MACOSX/                                      2020-01-10 10:27:42            0\n",
      "__MACOSX/._201908-baywheels-tripdata.csv       2020-01-09 15:57:30          268\n",
      "Extracting all the files now...\n",
      "Done!\n",
      "File Name                                             Modified             Size\n",
      "201909-baywheels-tripdata.csv                  2020-01-09 15:56:34     40479431\n",
      "__MACOSX/                                      2020-01-10 10:25:24            0\n",
      "__MACOSX/._201909-baywheels-tripdata.csv       2020-01-09 15:56:34          268\n",
      "Extracting all the files now...\n",
      "Done!\n",
      "File Name                                             Modified             Size\n",
      "201910-baywheels-tripdata.csv                  2020-01-09 15:57:04     44675257\n",
      "__MACOSX/                                      2020-01-10 10:25:18            0\n",
      "__MACOSX/._201910-baywheels-tripdata.csv       2020-01-09 15:57:04          268\n",
      "Extracting all the files now...\n",
      "Done!\n",
      "File Name                                             Modified             Size\n",
      "201911-baywheels-tripdata.csv                  2020-01-09 16:32:04     34669388\n",
      "__MACOSX/                                      2020-01-10 10:25:12            0\n",
      "__MACOSX/._201911-baywheels-tripdata.csv       2020-01-09 16:32:04          268\n",
      "Extracting all the files now...\n",
      "Done!\n",
      "File Name                                             Modified             Size\n",
      "201912-baywheels-tripdata.csv                  2020-03-24 15:55:12     26289897\n",
      "__MACOSX/                                      2020-03-24 15:55:38            0\n",
      "__MACOSX/._201912-baywheels-tripdata.csv       2020-03-24 15:55:12          268\n",
      "Extracting all the files now...\n",
      "Done!\n"
     ]
    }
   ],
   "source": [
    "# ekstrak list zip file \n",
    "\n",
    "# for i in range(len(all_zip)):\n",
    "#     with ZipFile(all_zip[i], 'r') as zip: \n",
    "#         zip.printdir()\n",
    "#         # extracting all the files \n",
    "#         print('Extracting all the files now...') \n",
    "#         zip.extractall() \n",
    "#         print('Done!')"
   ]
  },
  {
   "cell_type": "code",
   "execution_count": 4,
   "metadata": {},
   "outputs": [
    {
     "data": {
      "text/plain": [
       "['.\\\\201901-fordgobike-tripdata.csv',\n",
       " '.\\\\201902-fordgobike-tripdata.csv',\n",
       " '.\\\\201903-fordgobike-tripdata.csv',\n",
       " '.\\\\201904-fordgobike-tripdata.csv',\n",
       " '.\\\\201905-baywheels-tripdata.csv',\n",
       " '.\\\\201906-baywheels-tripdata.csv',\n",
       " '.\\\\201907-baywheels-tripdata.csv',\n",
       " '.\\\\201908-baywheels-tripdata.csv',\n",
       " '.\\\\201909-baywheels-tripdata.csv',\n",
       " '.\\\\201910-baywheels-tripdata.csv',\n",
       " '.\\\\201911-baywheels-tripdata.csv',\n",
       " '.\\\\201912-baywheels-tripdata.csv']"
      ]
     },
     "execution_count": 4,
     "metadata": {},
     "output_type": "execute_result"
    }
   ],
   "source": [
    "# ambil semua file csv yang telah di ekstrak menggunakan glob\n",
    "# letakkan semua file csv ke variable all_csv\n",
    "\n",
    "# path_csv = './'\n",
    "# all_csv = glob.glob(path_csv + \"/*.csv\")\n",
    "# all_csv"
   ]
  },
  {
   "cell_type": "code",
   "execution_count": 1,
   "metadata": {},
   "outputs": [],
   "source": [
    "# gabungkan semua file csv dengan pandas concat\n",
    "# lalu masukkan ke variable df\n",
    "\n",
    "# path_file = './'\n",
    "# files = [pd.read_csv(f) for f in glob.glob(os.path.join(path_file, '*.csv'))]\n",
    "# df = pd.concat(files, ignore_index=True);\n",
    "# print(df.shape)"
   ]
  },
  {
   "cell_type": "code",
   "execution_count": 10,
   "metadata": {},
   "outputs": [
    {
     "data": {
      "text/html": [
       "<div>\n",
       "<style scoped>\n",
       "    .dataframe tbody tr th:only-of-type {\n",
       "        vertical-align: middle;\n",
       "    }\n",
       "\n",
       "    .dataframe tbody tr th {\n",
       "        vertical-align: top;\n",
       "    }\n",
       "\n",
       "    .dataframe thead th {\n",
       "        text-align: right;\n",
       "    }\n",
       "</style>\n",
       "<table border=\"1\" class=\"dataframe\">\n",
       "  <thead>\n",
       "    <tr style=\"text-align: right;\">\n",
       "      <th></th>\n",
       "      <th>duration_sec</th>\n",
       "      <th>start_time</th>\n",
       "      <th>end_time</th>\n",
       "      <th>start_station_id</th>\n",
       "      <th>start_station_name</th>\n",
       "      <th>start_station_latitude</th>\n",
       "      <th>start_station_longitude</th>\n",
       "      <th>end_station_id</th>\n",
       "      <th>end_station_name</th>\n",
       "      <th>end_station_latitude</th>\n",
       "      <th>end_station_longitude</th>\n",
       "      <th>bike_id</th>\n",
       "      <th>user_type</th>\n",
       "      <th>bike_share_for_all_trip</th>\n",
       "      <th>rental_access_method</th>\n",
       "    </tr>\n",
       "  </thead>\n",
       "  <tbody>\n",
       "    <tr>\n",
       "      <th>0</th>\n",
       "      <td>80825</td>\n",
       "      <td>2019-01-31 17:57:44.6130</td>\n",
       "      <td>2019-02-01 16:24:49.8640</td>\n",
       "      <td>229.0</td>\n",
       "      <td>Foothill Blvd at 42nd Ave</td>\n",
       "      <td>37.775745</td>\n",
       "      <td>-122.213037</td>\n",
       "      <td>196.0</td>\n",
       "      <td>Grand Ave at Perkins St</td>\n",
       "      <td>37.808894</td>\n",
       "      <td>-122.256460</td>\n",
       "      <td>4861</td>\n",
       "      <td>Subscriber</td>\n",
       "      <td>No</td>\n",
       "      <td>NaN</td>\n",
       "    </tr>\n",
       "    <tr>\n",
       "      <th>1</th>\n",
       "      <td>65900</td>\n",
       "      <td>2019-01-31 20:58:33.8860</td>\n",
       "      <td>2019-02-01 15:16:54.1730</td>\n",
       "      <td>4.0</td>\n",
       "      <td>Cyril Magnin St at Ellis St</td>\n",
       "      <td>37.785881</td>\n",
       "      <td>-122.408915</td>\n",
       "      <td>134.0</td>\n",
       "      <td>Valencia St at 24th St</td>\n",
       "      <td>37.752428</td>\n",
       "      <td>-122.420628</td>\n",
       "      <td>5506</td>\n",
       "      <td>Subscriber</td>\n",
       "      <td>No</td>\n",
       "      <td>NaN</td>\n",
       "    </tr>\n",
       "    <tr>\n",
       "      <th>2</th>\n",
       "      <td>62633</td>\n",
       "      <td>2019-01-31 18:06:52.9240</td>\n",
       "      <td>2019-02-01 11:30:46.5300</td>\n",
       "      <td>245.0</td>\n",
       "      <td>Downtown Berkeley BART</td>\n",
       "      <td>37.870139</td>\n",
       "      <td>-122.268422</td>\n",
       "      <td>157.0</td>\n",
       "      <td>65th St at Hollis St</td>\n",
       "      <td>37.846784</td>\n",
       "      <td>-122.291376</td>\n",
       "      <td>2717</td>\n",
       "      <td>Customer</td>\n",
       "      <td>No</td>\n",
       "      <td>NaN</td>\n",
       "    </tr>\n",
       "    <tr>\n",
       "      <th>3</th>\n",
       "      <td>44680</td>\n",
       "      <td>2019-01-31 19:46:09.7190</td>\n",
       "      <td>2019-02-01 08:10:50.3180</td>\n",
       "      <td>85.0</td>\n",
       "      <td>Church St at Duboce Ave</td>\n",
       "      <td>37.770083</td>\n",
       "      <td>-122.429156</td>\n",
       "      <td>53.0</td>\n",
       "      <td>Grove St at Divisadero</td>\n",
       "      <td>37.775946</td>\n",
       "      <td>-122.437777</td>\n",
       "      <td>4557</td>\n",
       "      <td>Customer</td>\n",
       "      <td>No</td>\n",
       "      <td>NaN</td>\n",
       "    </tr>\n",
       "    <tr>\n",
       "      <th>4</th>\n",
       "      <td>60709</td>\n",
       "      <td>2019-01-31 14:19:01.5410</td>\n",
       "      <td>2019-02-01 07:10:51.0650</td>\n",
       "      <td>16.0</td>\n",
       "      <td>Steuart St at Market St</td>\n",
       "      <td>37.794130</td>\n",
       "      <td>-122.394430</td>\n",
       "      <td>28.0</td>\n",
       "      <td>The Embarcadero at Bryant St</td>\n",
       "      <td>37.787168</td>\n",
       "      <td>-122.388098</td>\n",
       "      <td>2100</td>\n",
       "      <td>Customer</td>\n",
       "      <td>No</td>\n",
       "      <td>NaN</td>\n",
       "    </tr>\n",
       "  </tbody>\n",
       "</table>\n",
       "</div>"
      ],
      "text/plain": [
       "   duration_sec                start_time                  end_time  \\\n",
       "0         80825  2019-01-31 17:57:44.6130  2019-02-01 16:24:49.8640   \n",
       "1         65900  2019-01-31 20:58:33.8860  2019-02-01 15:16:54.1730   \n",
       "2         62633  2019-01-31 18:06:52.9240  2019-02-01 11:30:46.5300   \n",
       "3         44680  2019-01-31 19:46:09.7190  2019-02-01 08:10:50.3180   \n",
       "4         60709  2019-01-31 14:19:01.5410  2019-02-01 07:10:51.0650   \n",
       "\n",
       "   start_station_id           start_station_name  start_station_latitude  \\\n",
       "0             229.0    Foothill Blvd at 42nd Ave               37.775745   \n",
       "1               4.0  Cyril Magnin St at Ellis St               37.785881   \n",
       "2             245.0       Downtown Berkeley BART               37.870139   \n",
       "3              85.0      Church St at Duboce Ave               37.770083   \n",
       "4              16.0      Steuart St at Market St               37.794130   \n",
       "\n",
       "   start_station_longitude  end_station_id              end_station_name  \\\n",
       "0              -122.213037           196.0       Grand Ave at Perkins St   \n",
       "1              -122.408915           134.0        Valencia St at 24th St   \n",
       "2              -122.268422           157.0          65th St at Hollis St   \n",
       "3              -122.429156            53.0        Grove St at Divisadero   \n",
       "4              -122.394430            28.0  The Embarcadero at Bryant St   \n",
       "\n",
       "   end_station_latitude  end_station_longitude  bike_id   user_type  \\\n",
       "0             37.808894            -122.256460     4861  Subscriber   \n",
       "1             37.752428            -122.420628     5506  Subscriber   \n",
       "2             37.846784            -122.291376     2717    Customer   \n",
       "3             37.775946            -122.437777     4557    Customer   \n",
       "4             37.787168            -122.388098     2100    Customer   \n",
       "\n",
       "  bike_share_for_all_trip rental_access_method  \n",
       "0                      No                  NaN  \n",
       "1                      No                  NaN  \n",
       "2                      No                  NaN  \n",
       "3                      No                  NaN  \n",
       "4                      No                  NaN  "
      ]
     },
     "execution_count": 10,
     "metadata": {},
     "output_type": "execute_result"
    }
   ],
   "source": [
    "# lihat 5 data awal\n",
    "\n",
    "# df.head()"
   ]
  },
  {
   "cell_type": "code",
   "execution_count": 11,
   "metadata": {},
   "outputs": [
    {
     "name": "stdout",
     "output_type": "stream",
     "text": [
      "<class 'pandas.core.frame.DataFrame'>\n",
      "RangeIndex: 2506983 entries, 0 to 2506982\n",
      "Data columns (total 15 columns):\n",
      " #   Column                   Dtype  \n",
      "---  ------                   -----  \n",
      " 0   duration_sec             int64  \n",
      " 1   start_time               object \n",
      " 2   end_time                 object \n",
      " 3   start_station_id         float64\n",
      " 4   start_station_name       object \n",
      " 5   start_station_latitude   float64\n",
      " 6   start_station_longitude  float64\n",
      " 7   end_station_id           float64\n",
      " 8   end_station_name         object \n",
      " 9   end_station_latitude     float64\n",
      " 10  end_station_longitude    float64\n",
      " 11  bike_id                  int64  \n",
      " 12  user_type                object \n",
      " 13  bike_share_for_all_trip  object \n",
      " 14  rental_access_method     object \n",
      "dtypes: float64(6), int64(2), object(7)\n",
      "memory usage: 286.9+ MB\n"
     ]
    }
   ],
   "source": [
    "# lihat informasi singkat dari data\n",
    "\n",
    "# df.info()"
   ]
  },
  {
   "cell_type": "code",
   "execution_count": 14,
   "metadata": {
    "scrolled": true
   },
   "outputs": [
    {
     "data": {
      "text/plain": [
       "duration_sec                     0\n",
       "start_time                       0\n",
       "end_time                         0\n",
       "start_station_id             80734\n",
       "start_station_name           80133\n",
       "start_station_latitude           0\n",
       "start_station_longitude          0\n",
       "end_station_id               82902\n",
       "end_station_name             82350\n",
       "end_station_latitude             0\n",
       "end_station_longitude            0\n",
       "bike_id                          0\n",
       "user_type                        0\n",
       "bike_share_for_all_trip     243259\n",
       "rental_access_method       2386145\n",
       "dtype: int64"
      ]
     },
     "execution_count": 14,
     "metadata": {},
     "output_type": "execute_result"
    }
   ],
   "source": [
    "# lihat apakah terdapat data NaN \n",
    "\n",
    "# df.isna().sum()"
   ]
  },
  {
   "cell_type": "code",
   "execution_count": 12,
   "metadata": {},
   "outputs": [
    {
     "data": {
      "text/html": [
       "<div>\n",
       "<style scoped>\n",
       "    .dataframe tbody tr th:only-of-type {\n",
       "        vertical-align: middle;\n",
       "    }\n",
       "\n",
       "    .dataframe tbody tr th {\n",
       "        vertical-align: top;\n",
       "    }\n",
       "\n",
       "    .dataframe thead th {\n",
       "        text-align: right;\n",
       "    }\n",
       "</style>\n",
       "<table border=\"1\" class=\"dataframe\">\n",
       "  <thead>\n",
       "    <tr style=\"text-align: right;\">\n",
       "      <th></th>\n",
       "      <th>duration_sec</th>\n",
       "      <th>start_time</th>\n",
       "      <th>end_time</th>\n",
       "      <th>start_station_id</th>\n",
       "      <th>start_station_name</th>\n",
       "      <th>start_station_latitude</th>\n",
       "      <th>start_station_longitude</th>\n",
       "      <th>end_station_id</th>\n",
       "      <th>end_station_name</th>\n",
       "      <th>end_station_latitude</th>\n",
       "      <th>end_station_longitude</th>\n",
       "      <th>bike_id</th>\n",
       "      <th>user_type</th>\n",
       "      <th>bike_share_for_all_trip</th>\n",
       "      <th>rental_access_method</th>\n",
       "    </tr>\n",
       "  </thead>\n",
       "  <tbody>\n",
       "  </tbody>\n",
       "</table>\n",
       "</div>"
      ],
      "text/plain": [
       "Empty DataFrame\n",
       "Columns: [duration_sec, start_time, end_time, start_station_id, start_station_name, start_station_latitude, start_station_longitude, end_station_id, end_station_name, end_station_latitude, end_station_longitude, bike_id, user_type, bike_share_for_all_trip, rental_access_method]\n",
       "Index: []"
      ]
     },
     "execution_count": 12,
     "metadata": {},
     "output_type": "execute_result"
    }
   ],
   "source": [
    "# lihat apakah ada data duplikat\n",
    "\n",
    "# df[df.duplicated()==True]"
   ]
  },
  {
   "cell_type": "markdown",
   "metadata": {},
   "source": [
    "# Assessing data\n",
    "1. drop `start_station_id`, `start_station_name`, `end_station_id`, `end_station_name` columns, because most of data was not impact to our analysis\n",
    "2. Change `Start_Time` & `End_Time` should be datetime format\n",
    "3. `User_Type` should be categorical format\n",
    "4. drop `bike_share_for_all_trip` & `rental_access_method` cause has many NaN value\n",
    "5. For the purpose of the analysis, we can add additional columns extracted from the time related columns (such as month, day of the week)\n",
    "6. Create another column for the trip duration in minutes (for easier use) \n",
    "7. We should calculate a total distance traveled using the lat/long coordinates"
   ]
  },
  {
   "cell_type": "markdown",
   "metadata": {},
   "source": [
    "# Cleaning Data"
   ]
  },
  {
   "cell_type": "code",
   "execution_count": 17,
   "metadata": {},
   "outputs": [],
   "source": [
    "# buat salinan data df\n",
    "# simpan ke variable df_copy\n",
    "\n",
    "# df_copy = df.copy()"
   ]
  },
  {
   "cell_type": "markdown",
   "metadata": {},
   "source": [
    "### Define 1\n",
    "1. drop `rental_access_method`,`start_station_id`, `start_station_name`, `end_station_id`, `end_station_name`, because not impact to our analysis"
   ]
  },
  {
   "cell_type": "markdown",
   "metadata": {},
   "source": [
    "#### Code"
   ]
  },
  {
   "cell_type": "code",
   "execution_count": 18,
   "metadata": {},
   "outputs": [],
   "source": [
    "# df_copy.drop(['rental_access_method','start_station_id', 'start_station_name', 'end_station_id', 'end_station_name'], axis=1, inplace=True)"
   ]
  },
  {
   "cell_type": "markdown",
   "metadata": {},
   "source": [
    "#### Test"
   ]
  },
  {
   "cell_type": "code",
   "execution_count": 19,
   "metadata": {},
   "outputs": [
    {
     "name": "stdout",
     "output_type": "stream",
     "text": [
      "<class 'pandas.core.frame.DataFrame'>\n",
      "RangeIndex: 2506983 entries, 0 to 2506982\n",
      "Data columns (total 10 columns):\n",
      " #   Column                   Dtype  \n",
      "---  ------                   -----  \n",
      " 0   duration_sec             int64  \n",
      " 1   start_time               object \n",
      " 2   end_time                 object \n",
      " 3   start_station_latitude   float64\n",
      " 4   start_station_longitude  float64\n",
      " 5   end_station_latitude     float64\n",
      " 6   end_station_longitude    float64\n",
      " 7   bike_id                  int64  \n",
      " 8   user_type                object \n",
      " 9   bike_share_for_all_trip  object \n",
      "dtypes: float64(4), int64(2), object(4)\n",
      "memory usage: 191.3+ MB\n"
     ]
    }
   ],
   "source": [
    "# df_copy.info()"
   ]
  },
  {
   "cell_type": "markdown",
   "metadata": {},
   "source": [
    "### Define 2\n",
    "2. Change `start_time` & `end_time` should be datetime format"
   ]
  },
  {
   "cell_type": "markdown",
   "metadata": {},
   "source": [
    "#### Code"
   ]
  },
  {
   "cell_type": "code",
   "execution_count": 21,
   "metadata": {},
   "outputs": [],
   "source": [
    "# df_copy['start_time'] = pd.to_datetime(df_copy['start_time'])\n",
    "# df_copy['end_time'] = pd.to_datetime(df_copy['end_time'])"
   ]
  },
  {
   "cell_type": "markdown",
   "metadata": {},
   "source": [
    "#### Test"
   ]
  },
  {
   "cell_type": "code",
   "execution_count": 22,
   "metadata": {},
   "outputs": [
    {
     "name": "stdout",
     "output_type": "stream",
     "text": [
      "<class 'pandas.core.frame.DataFrame'>\n",
      "RangeIndex: 2506983 entries, 0 to 2506982\n",
      "Data columns (total 10 columns):\n",
      " #   Column                   Dtype         \n",
      "---  ------                   -----         \n",
      " 0   duration_sec             int64         \n",
      " 1   start_time               datetime64[ns]\n",
      " 2   end_time                 datetime64[ns]\n",
      " 3   start_station_latitude   float64       \n",
      " 4   start_station_longitude  float64       \n",
      " 5   end_station_latitude     float64       \n",
      " 6   end_station_longitude    float64       \n",
      " 7   bike_id                  int64         \n",
      " 8   user_type                object        \n",
      " 9   bike_share_for_all_trip  object        \n",
      "dtypes: datetime64[ns](2), float64(4), int64(2), object(2)\n",
      "memory usage: 191.3+ MB\n"
     ]
    }
   ],
   "source": [
    "# df_copy.info()"
   ]
  },
  {
   "cell_type": "markdown",
   "metadata": {},
   "source": [
    "### Define 3\n",
    "3. `User_Type` should be categorical format"
   ]
  },
  {
   "cell_type": "markdown",
   "metadata": {},
   "source": [
    "#### Code"
   ]
  },
  {
   "cell_type": "code",
   "execution_count": 23,
   "metadata": {},
   "outputs": [
    {
     "data": {
      "text/plain": [
       "array(['Subscriber', 'Customer'], dtype=object)"
      ]
     },
     "execution_count": 23,
     "metadata": {},
     "output_type": "execute_result"
    }
   ],
   "source": [
    "# df_copy.user_type.unique()"
   ]
  },
  {
   "cell_type": "code",
   "execution_count": 24,
   "metadata": {},
   "outputs": [],
   "source": [
    "# df_copy['user_type'] = df_copy['user_type'].astype('category')"
   ]
  },
  {
   "cell_type": "markdown",
   "metadata": {},
   "source": [
    "#### Test"
   ]
  },
  {
   "cell_type": "code",
   "execution_count": 25,
   "metadata": {},
   "outputs": [
    {
     "name": "stdout",
     "output_type": "stream",
     "text": [
      "<class 'pandas.core.frame.DataFrame'>\n",
      "RangeIndex: 2506983 entries, 0 to 2506982\n",
      "Data columns (total 10 columns):\n",
      " #   Column                   Dtype         \n",
      "---  ------                   -----         \n",
      " 0   duration_sec             int64         \n",
      " 1   start_time               datetime64[ns]\n",
      " 2   end_time                 datetime64[ns]\n",
      " 3   start_station_latitude   float64       \n",
      " 4   start_station_longitude  float64       \n",
      " 5   end_station_latitude     float64       \n",
      " 6   end_station_longitude    float64       \n",
      " 7   bike_id                  int64         \n",
      " 8   user_type                category      \n",
      " 9   bike_share_for_all_trip  object        \n",
      "dtypes: category(1), datetime64[ns](2), float64(4), int64(2), object(1)\n",
      "memory usage: 174.5+ MB\n"
     ]
    }
   ],
   "source": [
    "# df_copy.info()"
   ]
  },
  {
   "cell_type": "markdown",
   "metadata": {},
   "source": [
    "### Define 4\n",
    "4. drop `bike_share_for_all_trip` cause has many nan value"
   ]
  },
  {
   "cell_type": "markdown",
   "metadata": {},
   "source": [
    "#### Code"
   ]
  },
  {
   "cell_type": "code",
   "execution_count": 26,
   "metadata": {},
   "outputs": [],
   "source": [
    "# df_copy.drop(['bike_share_for_all_trip'], axis=1, inplace=True)"
   ]
  },
  {
   "cell_type": "markdown",
   "metadata": {},
   "source": [
    "#### Test"
   ]
  },
  {
   "cell_type": "code",
   "execution_count": 27,
   "metadata": {},
   "outputs": [
    {
     "name": "stdout",
     "output_type": "stream",
     "text": [
      "<class 'pandas.core.frame.DataFrame'>\n",
      "RangeIndex: 2506983 entries, 0 to 2506982\n",
      "Data columns (total 9 columns):\n",
      " #   Column                   Dtype         \n",
      "---  ------                   -----         \n",
      " 0   duration_sec             int64         \n",
      " 1   start_time               datetime64[ns]\n",
      " 2   end_time                 datetime64[ns]\n",
      " 3   start_station_latitude   float64       \n",
      " 4   start_station_longitude  float64       \n",
      " 5   end_station_latitude     float64       \n",
      " 6   end_station_longitude    float64       \n",
      " 7   bike_id                  int64         \n",
      " 8   user_type                category      \n",
      "dtypes: category(1), datetime64[ns](2), float64(4), int64(2)\n",
      "memory usage: 155.4 MB\n"
     ]
    }
   ],
   "source": [
    "# df_copy.info()"
   ]
  },
  {
   "cell_type": "markdown",
   "metadata": {},
   "source": [
    "### Define 5\n",
    "5. For the purpose of the analysis, we can add additional columns extracted from the time related columns (such as month, day of the week)"
   ]
  },
  {
   "cell_type": "markdown",
   "metadata": {},
   "source": [
    "#### Code"
   ]
  },
  {
   "cell_type": "code",
   "execution_count": 28,
   "metadata": {},
   "outputs": [],
   "source": [
    "# df_copy['start_weekday'] = df_copy.start_time.dt.strftime('%A')\n",
    "# df_copy['start_month'] = df_copy.start_time.dt.strftime('%B')"
   ]
  },
  {
   "cell_type": "markdown",
   "metadata": {},
   "source": [
    "#### Test"
   ]
  },
  {
   "cell_type": "code",
   "execution_count": 29,
   "metadata": {},
   "outputs": [
    {
     "data": {
      "text/html": [
       "<div>\n",
       "<style scoped>\n",
       "    .dataframe tbody tr th:only-of-type {\n",
       "        vertical-align: middle;\n",
       "    }\n",
       "\n",
       "    .dataframe tbody tr th {\n",
       "        vertical-align: top;\n",
       "    }\n",
       "\n",
       "    .dataframe thead th {\n",
       "        text-align: right;\n",
       "    }\n",
       "</style>\n",
       "<table border=\"1\" class=\"dataframe\">\n",
       "  <thead>\n",
       "    <tr style=\"text-align: right;\">\n",
       "      <th></th>\n",
       "      <th>duration_sec</th>\n",
       "      <th>start_time</th>\n",
       "      <th>end_time</th>\n",
       "      <th>start_station_latitude</th>\n",
       "      <th>start_station_longitude</th>\n",
       "      <th>end_station_latitude</th>\n",
       "      <th>end_station_longitude</th>\n",
       "      <th>bike_id</th>\n",
       "      <th>user_type</th>\n",
       "      <th>start_weekday</th>\n",
       "      <th>start_month</th>\n",
       "    </tr>\n",
       "  </thead>\n",
       "  <tbody>\n",
       "    <tr>\n",
       "      <th>0</th>\n",
       "      <td>80825</td>\n",
       "      <td>2019-01-31 17:57:44.613</td>\n",
       "      <td>2019-02-01 16:24:49.864</td>\n",
       "      <td>37.775745</td>\n",
       "      <td>-122.213037</td>\n",
       "      <td>37.808894</td>\n",
       "      <td>-122.256460</td>\n",
       "      <td>4861</td>\n",
       "      <td>Subscriber</td>\n",
       "      <td>Thursday</td>\n",
       "      <td>January</td>\n",
       "    </tr>\n",
       "    <tr>\n",
       "      <th>1</th>\n",
       "      <td>65900</td>\n",
       "      <td>2019-01-31 20:58:33.886</td>\n",
       "      <td>2019-02-01 15:16:54.173</td>\n",
       "      <td>37.785881</td>\n",
       "      <td>-122.408915</td>\n",
       "      <td>37.752428</td>\n",
       "      <td>-122.420628</td>\n",
       "      <td>5506</td>\n",
       "      <td>Subscriber</td>\n",
       "      <td>Thursday</td>\n",
       "      <td>January</td>\n",
       "    </tr>\n",
       "    <tr>\n",
       "      <th>2</th>\n",
       "      <td>62633</td>\n",
       "      <td>2019-01-31 18:06:52.924</td>\n",
       "      <td>2019-02-01 11:30:46.530</td>\n",
       "      <td>37.870139</td>\n",
       "      <td>-122.268422</td>\n",
       "      <td>37.846784</td>\n",
       "      <td>-122.291376</td>\n",
       "      <td>2717</td>\n",
       "      <td>Customer</td>\n",
       "      <td>Thursday</td>\n",
       "      <td>January</td>\n",
       "    </tr>\n",
       "  </tbody>\n",
       "</table>\n",
       "</div>"
      ],
      "text/plain": [
       "   duration_sec              start_time                end_time  \\\n",
       "0         80825 2019-01-31 17:57:44.613 2019-02-01 16:24:49.864   \n",
       "1         65900 2019-01-31 20:58:33.886 2019-02-01 15:16:54.173   \n",
       "2         62633 2019-01-31 18:06:52.924 2019-02-01 11:30:46.530   \n",
       "\n",
       "   start_station_latitude  start_station_longitude  end_station_latitude  \\\n",
       "0               37.775745              -122.213037             37.808894   \n",
       "1               37.785881              -122.408915             37.752428   \n",
       "2               37.870139              -122.268422             37.846784   \n",
       "\n",
       "   end_station_longitude  bike_id   user_type start_weekday start_month  \n",
       "0            -122.256460     4861  Subscriber      Thursday     January  \n",
       "1            -122.420628     5506  Subscriber      Thursday     January  \n",
       "2            -122.291376     2717    Customer      Thursday     January  "
      ]
     },
     "execution_count": 29,
     "metadata": {},
     "output_type": "execute_result"
    }
   ],
   "source": [
    "# df_copy.head(3)"
   ]
  },
  {
   "cell_type": "markdown",
   "metadata": {},
   "source": [
    "### Define 6\n",
    "6. Create another column for the trip duration in minutes (for easier use)"
   ]
  },
  {
   "cell_type": "markdown",
   "metadata": {},
   "source": [
    "#### Code"
   ]
  },
  {
   "cell_type": "code",
   "execution_count": 30,
   "metadata": {},
   "outputs": [],
   "source": [
    "# df_copy['duration_min'] = df_copy['duration_sec'] / 60"
   ]
  },
  {
   "cell_type": "markdown",
   "metadata": {},
   "source": [
    "#### Test"
   ]
  },
  {
   "cell_type": "code",
   "execution_count": 31,
   "metadata": {},
   "outputs": [
    {
     "data": {
      "text/html": [
       "<div>\n",
       "<style scoped>\n",
       "    .dataframe tbody tr th:only-of-type {\n",
       "        vertical-align: middle;\n",
       "    }\n",
       "\n",
       "    .dataframe tbody tr th {\n",
       "        vertical-align: top;\n",
       "    }\n",
       "\n",
       "    .dataframe thead th {\n",
       "        text-align: right;\n",
       "    }\n",
       "</style>\n",
       "<table border=\"1\" class=\"dataframe\">\n",
       "  <thead>\n",
       "    <tr style=\"text-align: right;\">\n",
       "      <th></th>\n",
       "      <th>duration_sec</th>\n",
       "      <th>start_time</th>\n",
       "      <th>end_time</th>\n",
       "      <th>start_station_latitude</th>\n",
       "      <th>start_station_longitude</th>\n",
       "      <th>end_station_latitude</th>\n",
       "      <th>end_station_longitude</th>\n",
       "      <th>bike_id</th>\n",
       "      <th>user_type</th>\n",
       "      <th>start_weekday</th>\n",
       "      <th>start_month</th>\n",
       "      <th>duration_min</th>\n",
       "    </tr>\n",
       "  </thead>\n",
       "  <tbody>\n",
       "    <tr>\n",
       "      <th>0</th>\n",
       "      <td>80825</td>\n",
       "      <td>2019-01-31 17:57:44.613</td>\n",
       "      <td>2019-02-01 16:24:49.864</td>\n",
       "      <td>37.775745</td>\n",
       "      <td>-122.213037</td>\n",
       "      <td>37.808894</td>\n",
       "      <td>-122.256460</td>\n",
       "      <td>4861</td>\n",
       "      <td>Subscriber</td>\n",
       "      <td>Thursday</td>\n",
       "      <td>January</td>\n",
       "      <td>1347.083333</td>\n",
       "    </tr>\n",
       "    <tr>\n",
       "      <th>1</th>\n",
       "      <td>65900</td>\n",
       "      <td>2019-01-31 20:58:33.886</td>\n",
       "      <td>2019-02-01 15:16:54.173</td>\n",
       "      <td>37.785881</td>\n",
       "      <td>-122.408915</td>\n",
       "      <td>37.752428</td>\n",
       "      <td>-122.420628</td>\n",
       "      <td>5506</td>\n",
       "      <td>Subscriber</td>\n",
       "      <td>Thursday</td>\n",
       "      <td>January</td>\n",
       "      <td>1098.333333</td>\n",
       "    </tr>\n",
       "    <tr>\n",
       "      <th>2</th>\n",
       "      <td>62633</td>\n",
       "      <td>2019-01-31 18:06:52.924</td>\n",
       "      <td>2019-02-01 11:30:46.530</td>\n",
       "      <td>37.870139</td>\n",
       "      <td>-122.268422</td>\n",
       "      <td>37.846784</td>\n",
       "      <td>-122.291376</td>\n",
       "      <td>2717</td>\n",
       "      <td>Customer</td>\n",
       "      <td>Thursday</td>\n",
       "      <td>January</td>\n",
       "      <td>1043.883333</td>\n",
       "    </tr>\n",
       "  </tbody>\n",
       "</table>\n",
       "</div>"
      ],
      "text/plain": [
       "   duration_sec              start_time                end_time  \\\n",
       "0         80825 2019-01-31 17:57:44.613 2019-02-01 16:24:49.864   \n",
       "1         65900 2019-01-31 20:58:33.886 2019-02-01 15:16:54.173   \n",
       "2         62633 2019-01-31 18:06:52.924 2019-02-01 11:30:46.530   \n",
       "\n",
       "   start_station_latitude  start_station_longitude  end_station_latitude  \\\n",
       "0               37.775745              -122.213037             37.808894   \n",
       "1               37.785881              -122.408915             37.752428   \n",
       "2               37.870139              -122.268422             37.846784   \n",
       "\n",
       "   end_station_longitude  bike_id   user_type start_weekday start_month  \\\n",
       "0            -122.256460     4861  Subscriber      Thursday     January   \n",
       "1            -122.420628     5506  Subscriber      Thursday     January   \n",
       "2            -122.291376     2717    Customer      Thursday     January   \n",
       "\n",
       "   duration_min  \n",
       "0   1347.083333  \n",
       "1   1098.333333  \n",
       "2   1043.883333  "
      ]
     },
     "execution_count": 31,
     "metadata": {},
     "output_type": "execute_result"
    }
   ],
   "source": [
    "# df_copy.head(3)"
   ]
  },
  {
   "cell_type": "markdown",
   "metadata": {},
   "source": [
    "### Define 7\n",
    "7. We should calculate a total distance traveled using the lat/long coordinates"
   ]
  },
  {
   "cell_type": "markdown",
   "metadata": {},
   "source": [
    "#### Code"
   ]
  },
  {
   "cell_type": "code",
   "execution_count": 32,
   "metadata": {},
   "outputs": [],
   "source": [
    "# import math\n",
    "\n",
    "# def distance(origin, destination):\n",
    "    \n",
    "#     lat1, lon1 = origin\n",
    "#     lat2, lon2 = destination\n",
    "#     radius = 6373  # km\n",
    "\n",
    "#     dlat = math.radians(lat2 - lat1)\n",
    "#     dlon = math.radians(lon2 - lon1)\n",
    "#     a = (math.sin(dlat / 2) * math.sin(dlat / 2) + math.cos(math.radians(lat1)) * math.cos(math.radians(lat2)) *\n",
    "#          math.sin(dlon / 2) * math.sin(dlon / 2))\n",
    "#     c = 2 * math.atan2(math.sqrt(a), math.sqrt(1 - a))\n",
    "#     d = radius * c\n",
    "\n",
    "#     return round(d,3)"
   ]
  },
  {
   "cell_type": "code",
   "execution_count": 33,
   "metadata": {},
   "outputs": [],
   "source": [
    "# df_copy['distance_km'] = df_copy.apply(lambda x: distance((x['start_station_latitude'],x['start_station_longitude']),\n",
    "#                                                           (x['end_station_latitude'],x['end_station_longitude'])), axis=1)"
   ]
  },
  {
   "cell_type": "markdown",
   "metadata": {},
   "source": [
    "#### Test"
   ]
  },
  {
   "cell_type": "code",
   "execution_count": 34,
   "metadata": {
    "scrolled": true
   },
   "outputs": [
    {
     "data": {
      "text/html": [
       "<div>\n",
       "<style scoped>\n",
       "    .dataframe tbody tr th:only-of-type {\n",
       "        vertical-align: middle;\n",
       "    }\n",
       "\n",
       "    .dataframe tbody tr th {\n",
       "        vertical-align: top;\n",
       "    }\n",
       "\n",
       "    .dataframe thead th {\n",
       "        text-align: right;\n",
       "    }\n",
       "</style>\n",
       "<table border=\"1\" class=\"dataframe\">\n",
       "  <thead>\n",
       "    <tr style=\"text-align: right;\">\n",
       "      <th></th>\n",
       "      <th>duration_sec</th>\n",
       "      <th>start_time</th>\n",
       "      <th>end_time</th>\n",
       "      <th>start_station_latitude</th>\n",
       "      <th>start_station_longitude</th>\n",
       "      <th>end_station_latitude</th>\n",
       "      <th>end_station_longitude</th>\n",
       "      <th>bike_id</th>\n",
       "      <th>user_type</th>\n",
       "      <th>start_weekday</th>\n",
       "      <th>start_month</th>\n",
       "      <th>duration_min</th>\n",
       "      <th>distance_km</th>\n",
       "    </tr>\n",
       "  </thead>\n",
       "  <tbody>\n",
       "    <tr>\n",
       "      <th>0</th>\n",
       "      <td>80825</td>\n",
       "      <td>2019-01-31 17:57:44.613</td>\n",
       "      <td>2019-02-01 16:24:49.864</td>\n",
       "      <td>37.775745</td>\n",
       "      <td>-122.213037</td>\n",
       "      <td>37.808894</td>\n",
       "      <td>-122.256460</td>\n",
       "      <td>4861</td>\n",
       "      <td>Subscriber</td>\n",
       "      <td>Thursday</td>\n",
       "      <td>January</td>\n",
       "      <td>1347.083333</td>\n",
       "      <td>5.307</td>\n",
       "    </tr>\n",
       "    <tr>\n",
       "      <th>1</th>\n",
       "      <td>65900</td>\n",
       "      <td>2019-01-31 20:58:33.886</td>\n",
       "      <td>2019-02-01 15:16:54.173</td>\n",
       "      <td>37.785881</td>\n",
       "      <td>-122.408915</td>\n",
       "      <td>37.752428</td>\n",
       "      <td>-122.420628</td>\n",
       "      <td>5506</td>\n",
       "      <td>Subscriber</td>\n",
       "      <td>Thursday</td>\n",
       "      <td>January</td>\n",
       "      <td>1098.333333</td>\n",
       "      <td>3.861</td>\n",
       "    </tr>\n",
       "    <tr>\n",
       "      <th>2</th>\n",
       "      <td>62633</td>\n",
       "      <td>2019-01-31 18:06:52.924</td>\n",
       "      <td>2019-02-01 11:30:46.530</td>\n",
       "      <td>37.870139</td>\n",
       "      <td>-122.268422</td>\n",
       "      <td>37.846784</td>\n",
       "      <td>-122.291376</td>\n",
       "      <td>2717</td>\n",
       "      <td>Customer</td>\n",
       "      <td>Thursday</td>\n",
       "      <td>January</td>\n",
       "      <td>1043.883333</td>\n",
       "      <td>3.288</td>\n",
       "    </tr>\n",
       "  </tbody>\n",
       "</table>\n",
       "</div>"
      ],
      "text/plain": [
       "   duration_sec              start_time                end_time  \\\n",
       "0         80825 2019-01-31 17:57:44.613 2019-02-01 16:24:49.864   \n",
       "1         65900 2019-01-31 20:58:33.886 2019-02-01 15:16:54.173   \n",
       "2         62633 2019-01-31 18:06:52.924 2019-02-01 11:30:46.530   \n",
       "\n",
       "   start_station_latitude  start_station_longitude  end_station_latitude  \\\n",
       "0               37.775745              -122.213037             37.808894   \n",
       "1               37.785881              -122.408915             37.752428   \n",
       "2               37.870139              -122.268422             37.846784   \n",
       "\n",
       "   end_station_longitude  bike_id   user_type start_weekday start_month  \\\n",
       "0            -122.256460     4861  Subscriber      Thursday     January   \n",
       "1            -122.420628     5506  Subscriber      Thursday     January   \n",
       "2            -122.291376     2717    Customer      Thursday     January   \n",
       "\n",
       "   duration_min  distance_km  \n",
       "0   1347.083333        5.307  \n",
       "1   1098.333333        3.861  \n",
       "2   1043.883333        3.288  "
      ]
     },
     "execution_count": 34,
     "metadata": {},
     "output_type": "execute_result"
    }
   ],
   "source": [
    "# df_copy.head(3)"
   ]
  },
  {
   "cell_type": "markdown",
   "metadata": {},
   "source": [
    "# EDA (Exploratory Data Analysis)"
   ]
  },
  {
   "cell_type": "markdown",
   "metadata": {},
   "source": [
    "## Store clean data"
   ]
  },
  {
   "cell_type": "code",
   "execution_count": 35,
   "metadata": {},
   "outputs": [],
   "source": [
    "# df_clean = df_copy.copy()\n",
    "# df_clean.to_csv('2019-fordgobike_cleaned.csv')"
   ]
  },
  {
   "cell_type": "markdown",
   "metadata": {},
   "source": [
    "### Univariate Exploration\n",
    "1. Number of bike trips per month\n",
    "2. Number of bike trips per day of the week\n",
    "3. Trip duration both in second and minute\n",
    "4. Trip distance in KM"
   ]
  },
  {
   "cell_type": "code",
   "execution_count": 36,
   "metadata": {},
   "outputs": [],
   "source": [
    "# months = ['January', 'February', 'March', 'April', 'May', 'June', 'July', 'August', 'September', 'October', 'November', 'December']\n",
    "# month_category = pd.api.types.CategoricalDtype(ordered=True, categories=months)\n",
    "# df_clean['start_month'] = df_clean['start_month'].astype(month_category)"
   ]
  },
  {
   "cell_type": "code",
   "execution_count": 37,
   "metadata": {},
   "outputs": [
    {
     "data": {
      "text/plain": [
       "Text(0.5, 1.0, 'FordGoBike Trips per month')"
      ]
     },
     "execution_count": 37,
     "metadata": {},
     "output_type": "execute_result"
    },
    {
     "data": {
      "image/png": "[encoded data removed]",
      "text/plain": [
       "<Figure size 432x288 with 1 Axes>"
      ]
     },
     "metadata": {
      "needs_background": "light"
     },
     "output_type": "display_data"
    }
   ],
   "source": [
    "# base_color = sb.color_palette()[0]\n",
    "# sb.countplot(data=df_clean, x='start_month', color=base_color)\n",
    "# plt.xticks(rotation=30)\n",
    "# plt.xlabel('Trip start month')\n",
    "# plt.ylabel('Number of bike trips')\n",
    "# plt.title('FordGoBike Trips per month', fontweight='bold')"
   ]
  },
  {
   "cell_type": "markdown",
   "metadata": {},
   "source": [
    "##### Tulis Kesimpulan di bawah : \n",
    "- **the peak of user are varies widely, but in the last three months the rides become decreased during the corona virus effect. and also the result of entering winter season**"
   ]
  },
  {
   "cell_type": "code",
   "execution_count": 38,
   "metadata": {
    "scrolled": true
   },
   "outputs": [
    {
     "data": {
      "text/plain": [
       "Text(0.5, 1.0, 'Ford GoBike Trips per day of the week')"
      ]
     },
     "execution_count": 38,
     "metadata": {},
     "output_type": "execute_result"
    },
    {
     "data": {
      "image/png": "[encoded data removed]",
      "text/plain": [
       "<Figure size 432x288 with 1 Axes>"
      ]
     },
     "metadata": {
      "needs_background": "light"
     },
     "output_type": "display_data"
    }
   ],
   "source": [
    "# days = ['Monday', 'Tuesday', 'Wednesday', 'Thursday', 'Friday', 'Saturday', 'Sunday']\n",
    "# days_categories = pd.api.types.CategoricalDtype(ordered=True, categories=days)\n",
    "# df_clean['start_weekday'] = df_clean['start_weekday'].astype(days_categories)\n",
    "\n",
    "# base_color = sb.color_palette()[0]\n",
    "# sb.countplot(data=df_clean, x='start_weekday', color=base_color)\n",
    "# plt.xticks(rotation=30)\n",
    "# plt.xlabel('Trip Start Day of the week', size=12)\n",
    "# plt.ylabel('Total number of bike trips')\n",
    "# plt.title('Ford GoBike Trips per day of the week', fontweight='bold')"
   ]
  },
  {
   "cell_type": "markdown",
   "metadata": {},
   "source": [
    "##### Tulis Kesimpulan di bawah :\n",
    "- **in here we can conclude that more rides in weekdays than weekend, indicating most likely used for work or commuting**"
   ]
  },
  {
   "cell_type": "code",
   "execution_count": 39,
   "metadata": {},
   "outputs": [
    {
     "data": {
      "text/plain": [
       "Text(0, 0.5, 'Number of Bike trips')"
      ]
     },
     "execution_count": 39,
     "metadata": {},
     "output_type": "execute_result"
    },
    {
     "data": {
      "image/png": "[encoded data removed]",
      "text/plain": [
       "<Figure size 432x288 with 1 Axes>"
      ]
     },
     "metadata": {
      "needs_background": "light"
     },
     "output_type": "display_data"
    }
   ],
   "source": [
    "# bins = np.arange(0, 3600, 60)\n",
    "# plt.hist(data=df_clean, x='duration_sec', bins=bins)\n",
    "\n",
    "# plt.title('Ford GoBike Trip Duration in seconds', fontweight='bold')\n",
    "# plt.xlabel('Duration(s)')\n",
    "# plt.ylabel('Number of Bike trips')"
   ]
  },
  {
   "cell_type": "code",
   "execution_count": 40,
   "metadata": {
    "scrolled": true
   },
   "outputs": [
    {
     "data": {
      "image/png": "[encoded data removed]",
      "text/plain": [
       "<Figure size 432x288 with 1 Axes>"
      ]
     },
     "metadata": {
      "needs_background": "light"
     },
     "output_type": "display_data"
    }
   ],
   "source": [
    "# bins = np.arange(0, 45, 1)\n",
    "# ticks = [0, 5, 10, 15, 20, 25, 30,  35, 40, 45]\n",
    "# plt.hist(data = df_clean, x = 'duration_min', bins = bins);\n",
    "# plt.title('FordGoBike Trip Duration in Minutes', fontweight='bold')\n",
    "# plt.xlabel('Duration (m)')\n",
    "# plt.ylabel('Number of Bike Trips');"
   ]
  },
  {
   "cell_type": "markdown",
   "metadata": {},
   "source": [
    "##### Tulis Kesimpulan di bawah :\n",
    "- **we found that most of the total usage of this service took less than 10 minutes. this means people use it for short distances**"
   ]
  },
  {
   "cell_type": "code",
   "execution_count": 41,
   "metadata": {},
   "outputs": [
    {
     "data": {
      "text/plain": [
       "count    2.506983e+06\n",
       "mean     2.168647e+00\n",
       "std      7.752484e+01\n",
       "min      0.000000e+00\n",
       "25%      9.280000e-01\n",
       "50%      1.454000e+00\n",
       "75%      2.238000e+00\n",
       "max      1.280375e+04\n",
       "Name: distance_km, dtype: float64"
      ]
     },
     "execution_count": 41,
     "metadata": {},
     "output_type": "execute_result"
    }
   ],
   "source": [
    "# df_clean.distance_km.describe()"
   ]
  },
  {
   "cell_type": "code",
   "execution_count": 42,
   "metadata": {
    "scrolled": false
   },
   "outputs": [
    {
     "data": {
      "text/plain": [
       "Text(0, 0.5, 'Number of Bike Trips')"
      ]
     },
     "execution_count": 42,
     "metadata": {},
     "output_type": "execute_result"
    },
    {
     "data": {
      "image/png": "[encoded data removed]",
      "text/plain": [
       "<Figure size 432x288 with 1 Axes>"
      ]
     },
     "metadata": {
      "needs_background": "light"
     },
     "output_type": "display_data"
    }
   ],
   "source": [
    "# bins = np.arange(0, 10, 1)\n",
    "# plt.hist(data=df_clean, x='distance_km', bins=bins)\n",
    "# plt.title('Ford GoBike distance in KM', fontweight='bold')\n",
    "# plt.xlabel('Distance (KM)')\n",
    "# plt.ylabel('Number of Bike Trips')"
   ]
  },
  {
   "cell_type": "markdown",
   "metadata": {},
   "source": [
    "##### Tulis Kesimpulan di bawah :\n",
    "- **majority the trips are less than 2 Km, which is inline with the duration trip above that majority of trips are short duration**"
   ]
  },
  {
   "cell_type": "markdown",
   "metadata": {},
   "source": [
    "### Bivariate Exploration\n",
    "1. Number of Customer vs Subscriber (as bike trips)\n",
    "2. Customer vs Subscriber per month and per day of week\n",
    "3. Average distance between Customer vs Subscriber"
   ]
  },
  {
   "cell_type": "code",
   "execution_count": 43,
   "metadata": {},
   "outputs": [],
   "source": [
    "# customers = df_clean.query('user_type == \"Customer\"').shape[0]\n",
    "# subscribers = df_clean.query('user_type == \"Subscriber\"').shape[0]"
   ]
  },
  {
   "cell_type": "code",
   "execution_count": 44,
   "metadata": {},
   "outputs": [
    {
     "name": "stdout",
     "output_type": "stream",
     "text": [
      "Total Customer     : 485817\n",
      "Total Subscriber   : 2021166\n",
      "Customers Percentage    :  0.19378551829031151\n",
      "Subscribers Percentage  :  0.8062144817096885\n"
     ]
    }
   ],
   "source": [
    "# print('Total Customer     :',customers)\n",
    "# print('Total Subscriber   :',subscribers)\n",
    "\n",
    "# customers_perc = customers/df_clean.shape[0]\n",
    "# subscribers_perc = subscribers/df_clean.shape[0]\n",
    "# print('Customers Percentage    : ', customers_perc)\n",
    "# print('Subscribers Percentage  : ', subscribers_perc)"
   ]
  },
  {
   "cell_type": "code",
   "execution_count": 45,
   "metadata": {},
   "outputs": [
    {
     "data": {
      "text/plain": [
       "Text(0.5, 1.0, 'Ford GoBike - % Customers vs % Subscribers in 2019')"
      ]
     },
     "execution_count": 45,
     "metadata": {},
     "output_type": "execute_result"
    },
    {
     "data": {
      "image/png": "[encoded data removed]",
      "text/plain": [
       "<Figure size 288x288 with 1 Axes>"
      ]
     },
     "metadata": {},
     "output_type": "display_data"
    }
   ],
   "source": [
    "# size = [customers_perc, subscribers_perc]\n",
    "# labels = ['Customers', 'Subscribers']\n",
    "# explode = (0, 0.2)\n",
    "\n",
    "# plt.figure(figsize=(4,4))\n",
    "# plt.pie(size, explode = explode, labels = labels, autopct = '%1.1f%%', shadow = True, startangle = 90);\n",
    "# plt.title('Ford GoBike - % Customers vs % Subscribers in 2019', fontweight='bold')"
   ]
  },
  {
   "cell_type": "markdown",
   "metadata": {},
   "source": [
    "##### Tulis Kesimpulan di bawah :\n",
    "- **Highly number of Subscribers, indicates this service is liked by many people**"
   ]
  },
  {
   "cell_type": "code",
   "execution_count": 46,
   "metadata": {},
   "outputs": [
    {
     "data": {
      "image/png": "[encoded data removed]",
      "text/plain": [
       "<Figure size 504x288 with 1 Axes>"
      ]
     },
     "metadata": {
      "needs_background": "light"
     },
     "output_type": "display_data"
    }
   ],
   "source": [
    "# plt.figure(figsize=(7,4))\n",
    "# sb.countplot(data=df_clean, x='start_month', hue='user_type')\n",
    "# plt.xlabel('Month')\n",
    "# plt.ylabel('Number of bike trips')\n",
    "# plt.title('Usage per month - Customers vs Subscribers', fontweight = 'bold')\n",
    "# plt.legend(loc='upper right')\n",
    "# plt.xticks(rotation=30);"
   ]
  },
  {
   "cell_type": "markdown",
   "metadata": {},
   "source": [
    "##### Tulis Kesimpulan di bawah :\n",
    "- ...."
   ]
  },
  {
   "cell_type": "code",
   "execution_count": 47,
   "metadata": {},
   "outputs": [
    {
     "data": {
      "image/png": "[encoded data removed]",
      "text/plain": [
       "<Figure size 504x288 with 1 Axes>"
      ]
     },
     "metadata": {
      "needs_background": "light"
     },
     "output_type": "display_data"
    }
   ],
   "source": [
    "# plt.figure(figsize=(7,4))\n",
    "# sb.countplot(data=df_clean, x='start_weekday', hue='user_type')\n",
    "# plt.xlabel('Day of the week')\n",
    "# plt.ylabel('Number of bike trips')\n",
    "# plt.title('Usage per day - Customers vs Subscribers', fontweight = 'bold')\n",
    "# plt.legend(loc='upper right')\n",
    "# plt.xticks(rotation=30);"
   ]
  },
  {
   "cell_type": "markdown",
   "metadata": {},
   "source": [
    "##### Tulis Kesimpulan di bawah :\n",
    "- ...."
   ]
  },
  {
   "cell_type": "code",
   "execution_count": 48,
   "metadata": {
    "scrolled": false
   },
   "outputs": [
    {
     "data": {
      "image/png": "[encoded data removed]",
      "text/plain": [
       "<Figure size 432x288 with 1 Axes>"
      ]
     },
     "metadata": {
      "needs_background": "light"
     },
     "output_type": "display_data"
    }
   ],
   "source": [
    "# df_clean.groupby('user_type')['distance_km'].mean().plot(kind='barh')\n",
    "# plt.title('FordGoBike average distance (km) by User Type', fontweight='bold')\n",
    "# plt.xlabel('User Type')\n",
    "# plt.ylabel('Average Distance Traveled (km)');"
   ]
  },
  {
   "cell_type": "markdown",
   "metadata": {},
   "source": [
    "##### Tulis Kesimpulan di bawah :\n",
    "- **In the other side, that Customer average distance travel more higher than Subscriber, even though there are more Subscribers**"
   ]
  },
  {
   "cell_type": "markdown",
   "metadata": {},
   "source": [
    "### Multivariate Exploration\n",
    "1. Variation of the trip duration per days between customers and subscribers\n",
    "2. Variation of the trip duration per months between customers and subscribers"
   ]
  },
  {
   "cell_type": "code",
   "execution_count": 49,
   "metadata": {
    "scrolled": true
   },
   "outputs": [
    {
     "data": {
      "image/png": "[encoded data removed]",
      "text/plain": [
       "<Figure size 504x288 with 1 Axes>"
      ]
     },
     "metadata": {
      "needs_background": "light"
     },
     "output_type": "display_data"
    }
   ],
   "source": [
    "# plt.figure(figsize=(7,4))\n",
    "# sb.pointplot(data=df_clean, x='start_weekday', y='duration_min', hue='user_type')\n",
    "# plt.title('FordGoBike trip duration over days of week by User Type', fontweight='bold')\n",
    "# plt.xlabel('Day of Week')\n",
    "# plt.ylabel('Avg trip duration in Minute')\n",
    "# plt.xticks(rotation=30);"
   ]
  },
  {
   "cell_type": "markdown",
   "metadata": {},
   "source": [
    "##### Tulis Kesimpulan di bawah :\n",
    "- **the trip duration was higher for customer in saturday and sunday, This indicates if the customer is using it for leisure**"
   ]
  },
  {
   "cell_type": "code",
   "execution_count": 50,
   "metadata": {
    "scrolled": true
   },
   "outputs": [
    {
     "data": {
      "image/png": "[encoded data removed]",
      "text/plain": [
       "<Figure size 504x288 with 1 Axes>"
      ]
     },
     "metadata": {
      "needs_background": "light"
     },
     "output_type": "display_data"
    }
   ],
   "source": [
    "# plt.figure(figsize=(7,4))\n",
    "# sb.pointplot(data=df_clean, x='start_month', y='duration_min', hue='user_type')\n",
    "# plt.title('FordGoBike trip duration over months by User Type')\n",
    "# plt.xlabel('Month')\n",
    "# plt.ylabel('Avg trip duration in Minute')\n",
    "# plt.xticks(rotation=30);"
   ]
  },
  {
   "cell_type": "markdown",
   "metadata": {},
   "source": [
    "##### Tulis Kesimpulan di bawah :\n",
    "- **during the winter season from november to december the trip duration was decrease**"
   ]
  },
  {
   "cell_type": "code",
   "execution_count": null,
   "metadata": {},
   "outputs": [],
   "source": []
  }
 ],
 "metadata": {
  "kernelspec": {
   "display_name": "Python 3",
   "language": "python",
   "name": "python3"
  },
  "language_info": {
   "codemirror_mode": {
    "name": "ipython",
    "version": 3
   },
   "file_extension": ".py",
   "mimetype": "text/x-python",
   "name": "python",
   "nbconvert_exporter": "python",
   "pygments_lexer": "ipython3",
   "version": "3.8.2"
  }
 },
 "nbformat": 4,
 "nbformat_minor": 2
}
